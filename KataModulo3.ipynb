{
 "cells": [
  {
   "cell_type": "markdown",
   "metadata": {},
   "source": [
    "#Kata del Modulo 3"
   ]
  },
  {
   "cell_type": "code",
   "execution_count": 1,
   "metadata": {},
   "outputs": [
    {
     "name": "stdout",
     "output_type": "stream",
     "text": [
      "Alerta, se aproxima un asteroide\n"
     ]
    }
   ],
   "source": [
    "# Añadir el código necesario para crear una variable que guarde la velocidad del asteroide.\n",
    "# Escribe una expresión de prueba para calcular si necesita una advertencia.\n",
    "# Agregue las instrucciones que se ejecutarán si la expresión de prueba es true o false\n",
    "\n",
    "ast= 49\n",
    "if ast> 25:\n",
    "    print(\"Alerta, se aproxima un asteroide\")\n",
    "else:\n",
    "    print(\"Se aproxima un asteoride pero, puedes continuar con tu dia\")"
   ]
  },
  {
   "cell_type": "code",
   "execution_count": 2,
   "metadata": {},
   "outputs": [
    {
     "name": "stdout",
     "output_type": "stream",
     "text": [
      "Lindo dia, ¿no?\n"
     ]
    }
   ],
   "source": [
    "# Agrega el código para crear una variable para un asteroide que viaja a 19 km/s\n",
    "# Escribe varias expresiones de prueba para determinar si puedes ver el rayo de luz desde la tierra\n",
    "# Agrega las instrucciones que se ejecutarán si las expresiones de prueba son True o False\n",
    "ast= 19\n",
    "if ast> 20:\n",
    "    print(\"Mira al cielo, hay un rayo de luz verde\")\n",
    "elif ast== 20:\n",
    "    print(\"Mira al cielo, hay un rayo de luz verde\")\n",
    "else:\n",
    "    print(\"Lindo dia, ¿no?\")"
   ]
  },
  {
   "cell_type": "code",
   "execution_count": 4,
   "metadata": {},
   "outputs": [
    {
     "name": "stdout",
     "output_type": "stream",
     "text": [
      "Mira al cielo, hay un rayo de luz verde\n"
     ]
    }
   ],
   "source": [
    "# Agrega el código para crear nuevas variables para la velocidad y el tamaño del asteroide\n",
    "# Para probar el código, prueba con varias velocidades y tamaños\n",
    "# Escribe varias expresiones de prueba o combinaciones de expresiones de prueba para deter\n",
    "\n",
    "VelAst= 25\n",
    "TamAst= 40\n",
    "if VelAst> 25 and TamAst>25:\n",
    "    print(\"Alerta, se aproxima un asteroide a la tierra\")\n",
    "elif TamAst< 25:\n",
    "    print(\"Se aproxima un asteoride pero, puedes continuar con tu dia\")\n",
    "elif VelAst >= 20:\n",
    "    print(\"Mira al cielo, hay un rayo de luz verde\")\n",
    "else:\n",
    "    print(\"Lindo dia, ¿no?\")\n"
   ]
  }
 ],
 "metadata": {
  "interpreter": {
   "hash": "89d79823a9baa29ab3b30fd99dde0625205b3c18818f5afe2f8eae5dbb7a42e1"
  },
  "kernelspec": {
   "display_name": "Python 3.10.2 64-bit",
   "language": "python",
   "name": "python3"
  },
  "language_info": {
   "codemirror_mode": {
    "name": "ipython",
    "version": 3
   },
   "file_extension": ".py",
   "mimetype": "text/x-python",
   "name": "python",
   "nbconvert_exporter": "python",
   "pygments_lexer": "ipython3",
   "version": "3.10.2"
  },
  "orig_nbformat": 4
 },
 "nbformat": 4,
 "nbformat_minor": 2
}
