{
 "cells": [
  {
   "cell_type": "markdown",
   "metadata": {},
   "source": [
    "Kata del Módulo 9"
   ]
  },
  {
   "cell_type": "markdown",
   "metadata": {},
   "source": [
    "#Ejercicio 1"
   ]
  },
  {
   "cell_type": "code",
   "execution_count": 6,
   "metadata": {},
   "outputs": [],
   "source": [
    "#Funcion para leer 3 tanques de combustible\n",
    "def TanCom(tan1,tan2,tan3):\n",
    "    prom= (tan1+tan2+tan3)/3\n",
    "    return f\"\"\"Reporte:\n",
    "    Promedio: {prom}%\n",
    "    Tanque 1: {tan1}%\n",
    "    Tanque 2: {tan2}%\n",
    "    Tanque 3: {tan3}% \n",
    "    \"\"\""
   ]
  },
  {
   "cell_type": "code",
   "execution_count": 7,
   "metadata": {},
   "outputs": [
    {
     "name": "stdout",
     "output_type": "stream",
     "text": [
      "Reporte:\n",
      "    Promedio: 14.0%\n",
      "    Tanque 1: 14%\n",
      "    Tanque 2: 7%\n",
      "    Tanque 3: 21% \n",
      "    \n"
     ]
    }
   ],
   "source": [
    "#Llamamos a la funcion que genera el reporte print(tanque1,tanque2,tanque3)\n",
    "print(TanCom(14,7,21))"
   ]
  },
  {
   "cell_type": "code",
   "execution_count": 8,
   "metadata": {},
   "outputs": [
    {
     "data": {
      "text/plain": [
       "37.333333333333336"
      ]
     },
     "execution_count": 8,
     "metadata": {},
     "output_type": "execute_result"
    }
   ],
   "source": [
    "#Funcion Promedio\n",
    "def Prom(values):\n",
    "    t= sum(values)\n",
    "    num= len(values)\n",
    "    return t/num\n",
    "\n",
    "Prom([23,77,12])"
   ]
  },
  {
   "cell_type": "code",
   "execution_count": 10,
   "metadata": {},
   "outputs": [
    {
     "name": "stdout",
     "output_type": "stream",
     "text": [
      "Reporte del tanque:\n",
      "    Promedio: 40.0%\n",
      "    Tanque 1: 40%\n",
      "    Tanque 2: 70%\n",
      "    Tanque 3: 10% \n",
      "    \n"
     ]
    }
   ],
   "source": [
    "#Actualiza la funcion\n",
    "def TanCom(tan1,tan2,tan3):\n",
    "    return f\"\"\"Reporte del tanque:\n",
    "    Promedio: {Prom([tan1,tan2,tan3])}%\n",
    "    Tanque 1: {tan1}%\n",
    "    Tanque 2: {tan2}%\n",
    "    Tanque 3: {tan3}% \n",
    "    \"\"\"\n",
    "print(TanCom(40,70,10))"
   ]
  },
  {
   "cell_type": "markdown",
   "metadata": {},
   "source": [
    "#Ejercicio 2"
   ]
  },
  {
   "cell_type": "code",
   "execution_count": 12,
   "metadata": {},
   "outputs": [
    {
     "name": "stdout",
     "output_type": "stream",
     "text": [
      "Reporte de mision:\n",
      "    Destino de la mision La luna\n",
      "    Tiempo al destino 30 min\n",
      "    Tiempo del vuelo 50 min\n",
      "    Combustible 21000 galones\n",
      "    \n"
     ]
    }
   ],
   "source": [
    "#Funcion con un informe preciso de la mision \n",
    "def ReportM(Tdest,Dest,TVuelo,tan1,tan2):\n",
    "    return f\"\"\"Reporte de mision:\n",
    "    Destino de la mision {Dest}\n",
    "    Tiempo al destino {Tdest} min\n",
    "    Tiempo del vuelo {TVuelo} min\n",
    "    Combustible {tan1+tan2} galones\n",
    "    \"\"\"\n",
    "print(ReportM(30,\"La luna\",50,7000,14000))"
   ]
  },
  {
   "cell_type": "code",
   "execution_count": 13,
   "metadata": {},
   "outputs": [
    {
     "name": "stdout",
     "output_type": "stream",
     "text": [
      "Reporte de mision:\n",
      "    Destino de la mision La luna\n",
      "    Tiempo del vuelo 95 min\n",
      "    Tiempo fuel left 8400\n",
      "    \n"
     ]
    }
   ],
   "source": [
    "#Nueva funcion de reporte\n",
    "def ReportM(Dest,*min,**fuel_reservoirs):\n",
    "    return f\"\"\"Reporte de mision:\n",
    "    Destino de la mision {Dest}\n",
    "    Tiempo del vuelo {sum(min)} min\n",
    "    Tiempo fuel left {sum(fuel_reservoirs.values())}\n",
    "    \"\"\"\n",
    "print(ReportM(\"La luna\",21,14,60,tan1=1400,tan2=7000))"
   ]
  },
  {
   "cell_type": "code",
   "execution_count": 27,
   "metadata": {},
   "outputs": [
    {
     "name": "stdout",
     "output_type": "stream",
     "text": [
      "Reporte de mision:\n",
      "    Destino de la mision La luna\n",
      "    Tiempo del vuelo 103 min\n",
      "    Tiempo fuel left 71400\n",
      "    tan1 tanque total 1400 gal left\n",
      "tan2 tanque total 70000 gal left\n",
      "\n"
     ]
    }
   ],
   "source": [
    "#Escribe la nueva funcion\n",
    "def ReportM(Dest,*min,**fuel_reservoirs):\n",
    "    Mreport= f\"\"\"Reporte de mision:\n",
    "    Destino de la mision {Dest}\n",
    "    Tiempo del vuelo {sum(min)} min\n",
    "    Tiempo fuel left {sum(fuel_reservoirs.values())}\n",
    "    \"\"\"\n",
    "    for tan, gal in fuel_reservoirs.items():\n",
    "        Mreport += f\"{tan} tanque total {gal} gal left\\n\"\n",
    "    return Mreport\n",
    "     \n",
    "print(ReportM(\"La luna\",14,12,77,tan1=1400,tan2=70000))"
   ]
  }
 ],
 "metadata": {
  "interpreter": {
   "hash": "89d79823a9baa29ab3b30fd99dde0625205b3c18818f5afe2f8eae5dbb7a42e1"
  },
  "kernelspec": {
   "display_name": "Python 3.10.2 64-bit",
   "language": "python",
   "name": "python3"
  },
  "language_info": {
   "codemirror_mode": {
    "name": "ipython",
    "version": 3
   },
   "file_extension": ".py",
   "mimetype": "text/x-python",
   "name": "python",
   "nbconvert_exporter": "python",
   "pygments_lexer": "ipython3",
   "version": "3.10.2"
  },
  "orig_nbformat": 4
 },
 "nbformat": 4,
 "nbformat_minor": 2
}
