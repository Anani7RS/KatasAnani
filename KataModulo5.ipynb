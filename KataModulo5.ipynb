{
 "cells": [
  {
   "cell_type": "markdown",
   "metadata": {},
   "source": [
    "#KATA del Modulo 5"
   ]
  },
  {
   "cell_type": "markdown",
   "metadata": {},
   "source": [
    "#Ejercicio 1"
   ]
  },
  {
   "cell_type": "code",
   "execution_count": 1,
   "metadata": {},
   "outputs": [],
   "source": [
    "#Crear variables para almacenar las 2 distancias\n",
    "Tierra= 149597870\n",
    "Jupiter= 778547200"
   ]
  },
  {
   "cell_type": "code",
   "execution_count": 4,
   "metadata": {},
   "outputs": [
    {
     "name": "stdout",
     "output_type": "stream",
     "text": [
      "628949330\n",
      "390577533.93\n"
     ]
    }
   ],
   "source": [
    "dist= Jupiter-Tierra\n",
    "print(dist)\n",
    "\n",
    "distm= dist*0.621\n",
    "print(distm)"
   ]
  },
  {
   "cell_type": "markdown",
   "metadata": {},
   "source": [
    "#Ejercicio 2"
   ]
  },
  {
   "cell_type": "code",
   "execution_count": 11,
   "metadata": {},
   "outputs": [],
   "source": [
    "#Almacenar las entradas del usuario\n",
    "P1= input(\"Introduce la distancia del sol para el 1er planeta\")\n",
    "P2= input(\"Introduce la distancia del sol para el 2do planeta\")"
   ]
  },
  {
   "cell_type": "code",
   "execution_count": 12,
   "metadata": {},
   "outputs": [],
   "source": [
    "#Convierte las cadenas de ambos planetas a numeros enteros\n",
    "P1= int(P1)\n",
    "P2= int(P2)"
   ]
  },
  {
   "cell_type": "code",
   "execution_count": 13,
   "metadata": {},
   "outputs": [
    {
     "name": "stdout",
     "output_type": "stream",
     "text": [
      "4386900000\n",
      "2724264900.0\n"
     ]
    }
   ],
   "source": [
    "#Realiza el calculo y determinar el valor absoluto\n",
    "Dist=P2-P1\n",
    "print(abs(Dist))\n",
    "#Convertir de Km a Millas\n",
    "DistM= Dist*0.621\n",
    "print(abs(DistM))\n"
   ]
  }
 ],
 "metadata": {
  "interpreter": {
   "hash": "89d79823a9baa29ab3b30fd99dde0625205b3c18818f5afe2f8eae5dbb7a42e1"
  },
  "kernelspec": {
   "display_name": "Python 3.10.2 64-bit",
   "language": "python",
   "name": "python3"
  },
  "language_info": {
   "codemirror_mode": {
    "name": "ipython",
    "version": 3
   },
   "file_extension": ".py",
   "mimetype": "text/x-python",
   "name": "python",
   "nbconvert_exporter": "python",
   "pygments_lexer": "ipython3",
   "version": "3.10.2"
  },
  "orig_nbformat": 4
 },
 "nbformat": 4,
 "nbformat_minor": 2
}
