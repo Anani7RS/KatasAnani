{
 "cells": [
  {
   "cell_type": "markdown",
   "metadata": {},
   "source": [
    "#Kata del Modulo 4"
   ]
  },
  {
   "cell_type": "markdown",
   "metadata": {},
   "source": [
    "Ejercicio 1"
   ]
  },
  {
   "cell_type": "code",
   "execution_count": 2,
   "metadata": {},
   "outputs": [
    {
     "data": {
      "text/plain": [
       "['Interesting facts about the Moon',\n",
       " \" The Moon is Earth's only satellite\",\n",
       " ' There are several interesting facts about the Moon and how it affects life here on Earth',\n",
       " ' \\nOn average, the Moon moves 4cm away from the Earth every year',\n",
       " ' This yearly drift is not signific']"
      ]
     },
     "execution_count": 2,
     "metadata": {},
     "output_type": "execute_result"
    }
   ],
   "source": [
    "text = \"\"\"Interesting facts about the Moon. The Moon is Earth's only satellite. There are several interesting facts about the Moon and how it affects life here on Earth. \n",
    "On average, the Moon moves 4cm away from the Earth every year. This yearly drift is not signific\"\"\"\n",
    "\n",
    "#Dividir el texto en cada oracion\n",
    "text.split('.')"
   ]
  },
  {
   "cell_type": "code",
   "execution_count": 3,
   "metadata": {},
   "outputs": [],
   "source": [
    "#Define las palabras pista: avarage, temperature y distance suenan bien\n",
    "PistP= [\"average\", \"temperature\", \"distance\"]"
   ]
  },
  {
   "cell_type": "code",
   "execution_count": 4,
   "metadata": {},
   "outputs": [],
   "source": [
    "#Ciclo for para recorrer la cadena\n",
    "for orac in text:\n",
    "    for PalPist in PistP:\n",
    "       if PalPist in orac:\n",
    "           print(orac)\n",
    "           break"
   ]
  },
  {
   "cell_type": "code",
   "execution_count": 6,
   "metadata": {},
   "outputs": [],
   "source": [
    "#Ciclo para cambiar C a Celsius\n",
    "for orac in text:\n",
    "    for PalPist in PistP:\n",
    "        if PalPist in orac:\n",
    "            print(orac.replace('C','Celsius'))\n",
    "            break"
   ]
  },
  {
   "cell_type": "markdown",
   "metadata": {},
   "source": [
    "Ejercicio 2"
   ]
  },
  {
   "cell_type": "code",
   "execution_count": 7,
   "metadata": {},
   "outputs": [],
   "source": [
    "# Datos con los que vas a trabajar\n",
    "name = \"Moon\"\n",
    "gravity = 0.00162 # in kms\n",
    "planet = \"Earth\""
   ]
  },
  {
   "cell_type": "code",
   "execution_count": 10,
   "metadata": {},
   "outputs": [],
   "source": [
    "# Creamos el título\n",
    "title = f'Datos de gravedad sobre {name}'"
   ]
  },
  {
   "cell_type": "code",
   "execution_count": 15,
   "metadata": {},
   "outputs": [],
   "source": [
    "# Creamos la plantilla\n",
    "facts= f\"\"\"{'-'*70}\n",
    "Name Planet: {planet}\n",
    "Gravity in {name}:{gravity*1000} m/s2\n",
    "\"\"\""
   ]
  },
  {
   "cell_type": "code",
   "execution_count": 12,
   "metadata": {},
   "outputs": [
    {
     "name": "stdout",
     "output_type": "stream",
     "text": [
      "----------------------------------------------------------------------\n",
      "Name Planet: Earth\n",
      "Gravity inMoon:1.6199999999999999 m/s2\n",
      "\n"
     ]
    }
   ],
   "source": [
    "# Unión de ambas cadenas\n",
    "U= f\"\"\"{title.title()}\n",
    "{facts}\"\"\"\n",
    "print(facts)"
   ]
  },
  {
   "cell_type": "code",
   "execution_count": 13,
   "metadata": {},
   "outputs": [],
   "source": [
    "#Datos muestra:\n",
    "planeta = 'Marte '\n",
    "gravedad  = 0.00143\n",
    "nombre = 'Ganímedes'"
   ]
  },
  {
   "cell_type": "code",
   "execution_count": 16,
   "metadata": {},
   "outputs": [
    {
     "name": "stdout",
     "output_type": "stream",
     "text": [
      "----------------------------------------------------------------------\n",
      "Name Planet: Earth\n",
      "Gravity in Moon:1.6199999999999999 m/s2\n",
      "\n"
     ]
    }
   ],
   "source": [
    "# Comprueba la plantilla\n",
    "# print(nombre_plantilla)\n",
    "print(facts)"
   ]
  },
  {
   "cell_type": "code",
   "execution_count": 18,
   "metadata": {},
   "outputs": [
    {
     "name": "stdout",
     "output_type": "stream",
     "text": [
      "\n",
      "Datos de Gravedad sobre: Moon\n",
      "-------------------------------------------------------------------------------\n",
      "Nombre del planeta: Earth\n",
      "Gravedad en Moon: 1.6199999999999999 m/s2\n",
      "\n"
     ]
    }
   ],
   "source": [
    "# Nueva plantilla\n",
    "NewP= \"\"\"\n",
    "Datos de Gravedad sobre: {name}\n",
    "-------------------------------------------------------------------------------\n",
    "Nombre del planeta: {planet}\n",
    "Gravedad en {name}: {gravity} m/s2\n",
    "\"\"\"\n",
    "print(NewP.format(name=name,planet=planet, gravity=gravity*1000))"
   ]
  }
 ],
 "metadata": {
  "interpreter": {
   "hash": "89d79823a9baa29ab3b30fd99dde0625205b3c18818f5afe2f8eae5dbb7a42e1"
  },
  "kernelspec": {
   "display_name": "Python 3.10.2 64-bit",
   "language": "python",
   "name": "python3"
  },
  "language_info": {
   "codemirror_mode": {
    "name": "ipython",
    "version": 3
   },
   "file_extension": ".py",
   "mimetype": "text/x-python",
   "name": "python",
   "nbconvert_exporter": "python",
   "pygments_lexer": "ipython3",
   "version": "3.10.2"
  },
  "orig_nbformat": 4
 },
 "nbformat": 4,
 "nbformat_minor": 2
}
